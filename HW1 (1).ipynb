{
 "cells": [
  {
   "cell_type": "code",
   "execution_count": null,
   "id": "1d393dd6",
   "metadata": {},
   "outputs": [],
   "source": [
    "import pandas as pd\n",
    "import numpy as np\n",
    "import seaborn as sns\n",
    "import matplotlib.pyplot as plt"
   ]
  },
  {
   "cell_type": "code",
   "execution_count": null,
   "id": "9a0c2428",
   "metadata": {},
   "outputs": [],
   "source": [
    "df = pd.read_csv('daily_users.csv')\n",
    "df['Date'] = pd.to_datetime(df['Date'])"
   ]
  },
  {
   "cell_type": "code",
   "execution_count": null,
   "id": "48b73905",
   "metadata": {},
   "outputs": [],
   "source": [
    "def remove_commas(x):\n",
    "    return float(x.replace(',', ''))\n",
    "df['Page.Loads'] = df['Page.Loads'].apply(lambda x : remove_commas(x))\n",
    "df = df[['Date','Page.Loads']]\n",
    "df.columns = ['ds', 'y']"
   ]
  },
  {
   "cell_type": "code",
   "execution_count": null,
   "id": "68eb3a4b",
   "metadata": {},
   "outputs": [],
   "source": [
    "df.head()"
   ]
  },
  {
   "cell_type": "code",
   "execution_count": null,
   "id": "98048f30",
   "metadata": {},
   "outputs": [],
   "source": [
    "plt.plot(df['ds'], df['y'])\n",
    "plt.show()"
   ]
  },
  {
   "cell_type": "markdown",
   "id": "f0e5584d",
   "metadata": {},
   "source": [
    "**Simple Moving Average**"
   ]
  },
  {
   "cell_type": "markdown",
   "id": "e329d66c",
   "metadata": {},
   "source": [
    "Due to its emphasis on long-term trends and capacity to reduce the impact of short-term noise, simple moving average is a good tool for finding abnormalities. The SMA provides a smooth representation of the underlying pattern by calculating the average of data points across a chosen timeframe, which makes it simpler to spot departures from the average."
   ]
  },
  {
   "cell_type": "code",
   "execution_count": null,
   "id": "58dd2808",
   "metadata": {},
   "outputs": [],
   "source": [
    "df['SMA'] = df.iloc[:,1].rolling(window=30).mean()\n",
    "df[['y','SMA']].plot()"
   ]
  },
  {
   "cell_type": "code",
   "execution_count": null,
   "id": "1d1db56d",
   "metadata": {},
   "outputs": [],
   "source": [
    "df['diff_SMA'] = df['y'] - df['SMA']\n",
    "df['diff_SMA'].hist()\n",
    "plt.title('The distribution of diff in SMA')"
   ]
  },
  {
   "cell_type": "code",
   "execution_count": null,
   "id": "0dd35ab4",
   "metadata": {},
   "outputs": [],
   "source": [
    "df['upper_SMA'] = df['SMA'] + 2000\n",
    "df['lower_SMA'] = df['SMA'] - 2000\n",
    "df[30:60]"
   ]
  },
  {
   "cell_type": "code",
   "execution_count": null,
   "id": "92d17668",
   "metadata": {},
   "outputs": [],
   "source": [
    "def plot_it():\n",
    "    plt.plot(df['y'],'go',markersize=2,label='Actual')\n",
    "    plt.fill_between(\n",
    "       np.arange(df.shape[0]), df['lower_SMA'], df['upper_SMA'], alpha=0.5, color=\"r\",\n",
    "       label=\"Predicted interval\")\n",
    "    plt.xlabel(\"Ordered samples.\")\n",
    "    plt.ylabel(\"Values and prediction intervals.\")\n",
    "    plt.show()\n",
    "    \n",
    "plot_it()"
   ]
  },
  {
   "cell_type": "markdown",
   "id": "bd75558a",
   "metadata": {},
   "source": [
    "**Exponential Smoothing**"
   ]
  },
  {
   "cell_type": "markdown",
   "id": "01d443c2",
   "metadata": {},
   "source": [
    "Exponential smoothing is particularly sensitive to abrupt shifts or odd patterns in the time series because it can give higher weights to recent data points. Due to its sensitivity, it may efficiently detect and highlight anomalies in the most recent observations."
   ]
  },
  {
   "cell_type": "code",
   "execution_count": null,
   "id": "9d6112dc",
   "metadata": {},
   "outputs": [],
   "source": [
    "from statsmodels.tsa.api import SimpleExpSmoothing\n",
    "EMAfit = SimpleExpSmoothing(df['y']).fit(smoothing_level=0.2,optimized=False)\n",
    "EMA = EMAfit.forecast(3).rename(r'$\\alpha=0.2$')\n",
    "df['EMA'] = EMAfit.predict(start = 0)\n",
    "df[['y','EMA']].plot()"
   ]
  },
  {
   "cell_type": "code",
   "execution_count": null,
   "id": "7ec8decc",
   "metadata": {},
   "outputs": [],
   "source": [
    "df['diff_EMA'] = df['y'] - df['EMA']\n",
    "df['diff_EMA'].hist()\n",
    "plt.title('The distribution of diff in EMA')"
   ]
  },
  {
   "cell_type": "code",
   "execution_count": null,
   "id": "85bfbde5",
   "metadata": {},
   "outputs": [],
   "source": [
    "df['upper_EMA'] = df['EMA'] + 2000\n",
    "df['lower_EMA'] = df['EMA'] - 2000\n",
    "df[30:60]"
   ]
  },
  {
   "cell_type": "code",
   "execution_count": null,
   "id": "786fe6a7",
   "metadata": {},
   "outputs": [],
   "source": [
    "def plot_it():\n",
    "    plt.plot(df['y'],'go',markersize=2,label='Actual')\n",
    "    plt.fill_between(\n",
    "       np.arange(df.shape[0]), df['lower_EMA'], df['upper_EMA'], alpha=0.5, color=\"r\",\n",
    "       label=\"Predicted interval\")\n",
    "    plt.xlabel(\"Ordered samples.\")\n",
    "    plt.ylabel(\"Values and prediction intervals.\")\n",
    "    plt.show()\n",
    "    \n",
    "plot_it()"
   ]
  },
  {
   "cell_type": "markdown",
   "id": "9d9bf1b8",
   "metadata": {},
   "source": [
    "**Seasonal-Trend Decomposition (STD)**"
   ]
  },
  {
   "cell_type": "markdown",
   "id": "df64a425",
   "metadata": {},
   "source": [
    "Time series anomalies are divided into their seasonal, trend, and residual components using the Seasonal-Trend Decomposition (STD) method. Using STD, we can efficiently separate the seasonal and trend components, allowing for a more in-depth analysis of the residual component. The variances from the anticipated seasonal and trend patterns are represented by the residual component."
   ]
  },
  {
   "cell_type": "code",
   "execution_count": null,
   "id": "30611d92",
   "metadata": {},
   "outputs": [],
   "source": [
    "import statsmodels.api as sm\n",
    "\n",
    "df = pd.read_csv('daily_users.csv')\n",
    "df['Date'] = pd.to_datetime(df['Date'])\n",
    "def remove_commas(x):\n",
    "    return float(x.replace(',', ''))\n",
    "df['Page.Loads'] = df['Page.Loads'].apply(lambda x : remove_commas(x))\n",
    "df = df[['Date','Page.Loads']]\n",
    "df.columns = ['ds', 'y']\n",
    "df = df.reset_index(drop='index')\n",
    "df.index = pd.to_datetime(df['ds'])\n",
    "\n",
    "result = sm.tsa.seasonal_decompose(df['y'], model='additive')\n",
    "result.trend[1:2000].plot()"
   ]
  },
  {
   "cell_type": "code",
   "execution_count": null,
   "id": "1fdacba0",
   "metadata": {},
   "outputs": [],
   "source": [
    "result.seasonal[1:2000].plot()"
   ]
  },
  {
   "cell_type": "code",
   "execution_count": null,
   "id": "dfd6de3d",
   "metadata": {},
   "outputs": [],
   "source": [
    "result.resid[1:2000].plot()"
   ]
  },
  {
   "cell_type": "markdown",
   "id": "17137929",
   "metadata": {},
   "source": [
    "**Prophet**"
   ]
  },
  {
   "cell_type": "markdown",
   "id": "e570f0b3",
   "metadata": {},
   "source": [
    "Prophet is unique in its capacity to take into consideration the impacts of seasonality, trends, and holidays on time series data. Prophet uses a Bayesian technique that effectively handles gaps in the dataset, including missing values, in contrast to simple moving average and seasonal-trend decomposition. In order to accurately capture and detect abnormalities or irregularities in the data, it establishes the uncertainty interval around the predicted values."
   ]
  },
  {
   "cell_type": "code",
   "execution_count": null,
   "id": "de667adb",
   "metadata": {},
   "outputs": [],
   "source": [
    "from prophet import Prophet\n",
    "import plotly.offline as py\n",
    "\n",
    "py.init_notebook_mode()\n",
    "%matplotlib inline\n",
    "\n",
    "# Fitting with default parameters\n",
    "df_model_0 = Prophet(daily_seasonality=True)\n",
    "df_model_0.fit(df)"
   ]
  },
  {
   "cell_type": "code",
   "execution_count": null,
   "id": "1c6c5635",
   "metadata": {},
   "outputs": [],
   "source": [
    "future= df_model_0.make_future_dataframe(periods=30, freq='d')\n",
    "future.tail()"
   ]
  },
  {
   "cell_type": "code",
   "execution_count": null,
   "id": "0289a581",
   "metadata": {},
   "outputs": [],
   "source": [
    "df_model_0_data=df_model_0.predict(future)\n",
    "df_model_0_data.tail()"
   ]
  },
  {
   "cell_type": "code",
   "execution_count": null,
   "id": "9725dd78",
   "metadata": {},
   "outputs": [],
   "source": [
    "from prophet.plot import add_changepoints_to_plot\n",
    "\n",
    "fig= df_model_0.plot(df_model_0_data)\n",
    "a = add_changepoints_to_plot(fig.gca(), df_model_0, df_model_0_data)"
   ]
  },
  {
   "cell_type": "code",
   "execution_count": null,
   "id": "b8ad252c",
   "metadata": {},
   "outputs": [],
   "source": [
    "df_model_0.plot_components(df_model_0_data)"
   ]
  }
 ],
 "metadata": {
  "kernelspec": {
   "display_name": "Python 3 (ipykernel)",
   "language": "python",
   "name": "python3"
  },
  "language_info": {
   "codemirror_mode": {
    "name": "ipython",
    "version": 3
   },
   "file_extension": ".py",
   "mimetype": "text/x-python",
   "name": "python",
   "nbconvert_exporter": "python",
   "pygments_lexer": "ipython3",
   "version": "3.10.9"
  }
 },
 "nbformat": 4,
 "nbformat_minor": 5
}
